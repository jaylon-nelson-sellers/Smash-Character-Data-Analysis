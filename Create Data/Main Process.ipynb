{
 "cells": [
  {
   "cell_type": "code",
   "execution_count": 61,
   "id": "41795d3c",
   "metadata": {},
   "outputs": [],
   "source": [
    "# Reduction via PCA, ICA, and Double-DBM"
   ]
  },
  {
   "cell_type": "code",
   "execution_count": 62,
   "id": "e08b9304",
   "metadata": {},
   "outputs": [],
   "source": [
    "# Cluster via K Means, DBSCAN, Spectral Clustering"
   ]
  },
  {
   "cell_type": "code",
   "execution_count": 63,
   "id": "020cef2d",
   "metadata": {},
   "outputs": [],
   "source": [
    "# Graph and save V-measure, ARI, Adjusted Mutual Information"
   ]
  },
  {
   "cell_type": "code",
   "execution_count": 171,
   "id": "e69565e7",
   "metadata": {},
   "outputs": [],
   "source": [
    "from sklearn.feature_extraction.text import TfidfVectorizer\n",
    "from sklearn.cluster import KMeans\n",
    "from sklearn.pipeline import make_pipeline\n",
    "import csv\n",
    "import pandas as pd\n",
    "from pandas import DataFrame\n",
    "def load_data(file_name: str = \"Data.csv\" , debug: bool = False ) -> DataFrame:\n",
    "    \n",
    "    try:\n",
    "        with open(file_name, mode ='r')as file:\n",
    "          csv_file = csv.reader(file)\n",
    "        df = pd.read_csv(file_name)\n",
    "        if debug:\n",
    "            print(\"Dataframe after loading data\")\n",
    "            print(df.head(5))\n",
    "    except:\n",
    "        print(\"Could Not Load File\")\n",
    "   \n",
    "    if debug:\n",
    "        print(\"Loading Data Completed\")\n",
    "    return df"
   ]
  },
  {
   "cell_type": "code",
   "execution_count": 181,
   "id": "2175495d",
   "metadata": {},
   "outputs": [],
   "source": [
    "from sklearn.feature_extraction.text import TfidfVectorizer\n",
    "from sklearn.feature_extraction.text import CountVectorizer\n",
    "\n",
    "# Vectorizing Method: \n",
    "def vectorize_data(df, v_method: str = \"TfidfVectorizer\", debug:bool = False) -> DataFrame:\n",
    "    try:\n",
    "        all_vectorized_dfs = []\n",
    "\n",
    "        # Iterate over each column except the first one\n",
    "        for column in df.columns[3:]:\n",
    "            if v_method == \"TfidfVectorizer\":\n",
    "                vectorizer = TfidfVectorizer(stop_words='english')\n",
    "                transformed_data = vectorizer.fit_transform(df[column])\n",
    "\n",
    "                if debug:\n",
    "                    print(f\"Shape after vectorizing column '{column}':\", transformed_data.shape)\n",
    "\n",
    "                # Convert the sparse matrix to a DataFrame\n",
    "                vectorized_df = pd.DataFrame(transformed_data.toarray(), columns=[f\"{column}_{feature}\" for feature in vectorizer.get_feature_names_out()])\n",
    "                all_vectorized_dfs.append(vectorized_df)\n",
    "            else:\n",
    "                raise ValueError(f\"Vectorizing method '{v_method}' is not supported.\")\n",
    "\n",
    "        # Concatenate all the vectorized DataFrames along the columns\n",
    "        df_vectorized = pd.concat(all_vectorized_dfs, axis=1)\n",
    "\n",
    "        # Append the first column of the original DataFrame\n",
    "        df_final = pd.concat([df.iloc[:, [0]], df_vectorized], axis=1)\n",
    "\n",
    "        if debug:\n",
    "            print(\"Final DataFrame shape after vectorizing all columns:\", df_final.shape)\n",
    "\n",
    "        return df_final\n",
    "\n",
    "    except Exception as e:\n",
    "        print(f\"Error while Vectorizing Data: {e}\")\n",
    "        return df\n"
   ]
  },
  {
   "cell_type": "code",
   "execution_count": 182,
   "id": "47562466",
   "metadata": {},
   "outputs": [
    {
     "name": "stdout",
     "output_type": "stream",
     "text": [
      "Shape after vectorizing column 'Quick Summary': (12, 586)\n",
      "Final DataFrame shape after vectorizing all columns: (12, 587)\n"
     ]
    }
   ],
   "source": [
    "def __main__(file_name: str = \"data.csv\",debug: bool = False):\n",
    "    df = load_data(file_name,False)\n",
    "    df = vectorize_data(df,\"TfidfVectorizer\",debug)\n",
    "debug = True\n",
    "__main__(\"Smash 64 v1.csv\",debug)"
   ]
  },
  {
   "cell_type": "code",
   "execution_count": null,
   "id": "8a5c82c0",
   "metadata": {},
   "outputs": [],
   "source": []
  }
 ],
 "metadata": {
  "kernelspec": {
   "display_name": "Python 3 (ipykernel)",
   "language": "python",
   "name": "python3"
  },
  "language_info": {
   "codemirror_mode": {
    "name": "ipython",
    "version": 3
   },
   "file_extension": ".py",
   "mimetype": "text/x-python",
   "name": "python",
   "nbconvert_exporter": "python",
   "pygments_lexer": "ipython3",
   "version": "3.9.12"
  }
 },
 "nbformat": 4,
 "nbformat_minor": 5
}
