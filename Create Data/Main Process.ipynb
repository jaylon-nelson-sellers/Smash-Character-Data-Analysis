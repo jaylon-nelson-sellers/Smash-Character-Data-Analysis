{
 "cells": [
  {
   "cell_type": "code",
   "execution_count": 198,
   "id": "2795d650",
   "metadata": {},
   "outputs": [],
   "source": [
    "# Cluster via K Means, DBSCAN, Spectral Clustering"
   ]
  },
  {
   "cell_type": "code",
   "execution_count": 199,
   "id": "c5ecb2c6",
   "metadata": {},
   "outputs": [],
   "source": [
    "# Graph and save V-measure, ARI, Adjusted Mutual Informatio"
   ]
  },
  {
   "cell_type": "code",
   "execution_count": 21,
   "id": "675117e9",
   "metadata": {},
   "outputs": [],
   "source": [
    "from sklearn.feature_extraction.text import TfidfVectorizer\n",
    "from sklearn.cluster import KMeans\n",
    "from sklearn.pipeline import make_pipeline\n",
    "import csv\n",
    "import pandas as pd\n",
    "from pandas import DataFrame\n",
    "def load_data(file_name: str = \"Data.csv\" , debug: bool = False ) -> DataFrame:\n",
    "    \n",
    "    try:\n",
    "        with open(file_name, mode ='r')as file:\n",
    "            csv_file = csv.reader(file)\n",
    "        df = pd.read_csv(file_name)\n",
    "        if debug:\n",
    "            print(\"Dataframe after loading data\")\n",
    "            print(df.head(5))\n",
    "    except:\n",
    "        print(\"Could Not Load File\")\n",
    "   \n",
    "    if debug:\n",
    "        print(\"Loading Data Completed\")\n",
    "    return df"
   ]
  },
  {
   "cell_type": "code",
   "execution_count": 26,
   "id": "cc2feb0c",
   "metadata": {},
   "outputs": [],
   "source": [
    "from sklearn.feature_extraction.text import TfidfVectorizer\n",
    "from sklearn.feature_extraction.text import CountVectorizer\n",
    "from sklearn.preprocessing import RobustScaler\n",
    "import numpy as np\n",
    "# Vectorizing Method: \n",
    "def vectorize_data(df, v_method: int = 0, debug:bool = False) -> DataFrame:\n",
    "    \n",
    "    all_vectorized_dfs = []\n",
    "\n",
    "    # Iterate over each column except the first one\n",
    "    for column in df.columns[3:]:\n",
    "        if v_method == 0:\n",
    "            vectorizer = TfidfVectorizer(stop_words='english')\n",
    "        elif v_method == 1:\n",
    "            vectorizer = CountVectorizer(stop_words='english')\n",
    "\n",
    "        else:\n",
    "            raise ValueError(f\"Vectorizing method '{v_method}' is not supported.\")\n",
    "        transformed_data = vectorizer.fit_transform(df[column].values.astype('U'))\n",
    "\n",
    "        if debug:\n",
    "            print(f\"Shape after vectorizing column '{column}':\", transformed_data.shape)\n",
    "\n",
    "        # Convert the sparse matrix to a DataFrame\n",
    "        vectorized_df = pd.DataFrame(transformed_data.toarray(), columns=[f\"{column}_{feature}\"\n",
    "                        for feature in vectorizer.get_feature_names_out()])\n",
    "        all_vectorized_dfs.append(vectorized_df)\n",
    "\n",
    "\n",
    "    # Concatenate all the vectorized DataFrames along the columns\n",
    "    df_vectorized = pd.concat(all_vectorized_dfs, axis=1)\n",
    "\n",
    "    # Append the first column of the original DataFrame\n",
    "    df_combined = pd.concat([df.iloc[:, [0]], df_vectorized], axis=1)\n",
    "\n",
    "    if debug:\n",
    "        print(\"Final DataFrame shape after vectorizing all columns:\", df_final.shape)\n",
    "    df_combined = df_combined.replace([np.inf, -np.inf], np.nan)\n",
    "    df_filled = df_combined.fillna(-1)\n",
    "    df_names = df_filled.drop(\"Character\",axis='columns')\n",
    "    df_filled.drop(\"Character\",axis='columns', inplace=True)\n",
    "    # Fit and transform the data\n",
    "    scaler = RobustScaler()\n",
    "    scaled_data = scaler.fit_transform(df_filled)\n",
    "\n",
    "    # Convert the scaled data back to a DataFrame\n",
    "    df_final = pd.DataFrame(scaled_data, columns=df_filled.columns)\n",
    "    return df_final,df_names\n"
   ]
  },
  {
   "cell_type": "code",
   "execution_count": 27,
   "id": "d55d8764",
   "metadata": {},
   "outputs": [],
   "source": [
    "import pandas as pd\n",
    "from sklearn.decomposition import PCA, FastICA, KernelPCA\n",
    "from sklearn.neural_network import BernoulliRBM\n",
    "from sklearn.cluster import KMeans, SpectralClustering, AgglomerativeClustering\n",
    "from sklearn.metrics import davies_bouldin_score, silhouette_score,calinski_harabasz_score\n",
    "import matplotlib.pyplot as plt\n",
    "import seaborn as sns\n",
    "\n",
    "def data_reduction(file_name: str,df: pd.DataFrame, method: int = 0, \n",
    "                   clusters: int = 3,v_ind: int = 0, debug: bool = False) -> pd.DataFrame:\n",
    "    if debug:\n",
    "        print(\"Starting data reduction\")\n",
    "    temp_df = df\n",
    "    char_names = df.drop(df.columns[0], axis=1, inplace=True)\n",
    "    #print(char_names)\n",
    "    #print(temp_df.head(5))\n",
    "    # Select the reduction method\n",
    "    if v_ind:\n",
    "        vector = \"CountVectorizer\"\n",
    "    else:\n",
    "        vector = \"TfidfVectorizer\"\n",
    "        \n",
    "    if method == 0:\n",
    "        reduced_data = df \n",
    "        reduction_method = \"Raw\"\n",
    "    elif method == 1:\n",
    "        reducer = PCA(n_components=2)\n",
    "        reduction_method = \"PCA\"\n",
    "    elif method == 2:\n",
    "        reducer = FastICA(n_components=2)\n",
    "        reduction_method = \"ICA\"\n",
    "    elif method == 3:\n",
    "        reducer = KernelPCA(n_components=2, kernel='rbf')\n",
    "        reduction_method = \"KernelPCA\"\n",
    "    elif method == 4:\n",
    "        reducer = BernoulliRBM(n_components=2,)\n",
    "        reduction_method = \"RBM\"\n",
    "    elif method == 5:\n",
    "        feats = len(df.columns)\n",
    "        layer_one = round(feats,2)\n",
    "        if debug:\n",
    "            print(f\"Layer Size: {layer_one}\")\n",
    "        reducer = BernoulliRBM(n_components=layer_one, n_iter=50, learning_rate=0.01)\n",
    "        reducer = BernoulliRBM(n_components=2,n_iter=50, learning_rate=0.01)\n",
    "        reduction_method = \"Double-RBM\"\n",
    "    else:\n",
    "        raise ValueError(\"Unknown reduction method specified\")\n",
    "    if method != 0:\n",
    "        # Apply the reduction\n",
    "        reduced_data = reducer.fit_transform(temp_df)\n",
    "    \n",
    "    if debug:\n",
    "        print(f\"Reduction method: {reduction_method}\")\n",
    "        print(\"Reduced data shape:\", reduced_data.shape)\n",
    "    \n",
    "    # Perform clustering\n",
    "    clustering_algorithms = {\n",
    "        #'K-Means': KMeans(n_clusters=clusters, random_state=42,n_init='auto'),\n",
    "        #'Spectral': SpectralClustering(n_clusters=clusters, random_state=42, affinity='nearest_neighbors'),\n",
    "        'Agglomerative Clustering':  AgglomerativeClustering(n_clusters=clusters)\n",
    "    }\n",
    "\n",
    "    evaluations = []\n",
    "\n",
    "    for name, algorithm in clustering_algorithms.items():\n",
    "        labels = algorithm.fit_predict(reduced_data)\n",
    "        print(f\"Clustering method: {name}\")\n",
    "        new_file_str = f\"d_{file_name} v_{vector} m_{reduction_method} c_{clusters}\"\n",
    "        temp_df[f'Cluster_{name}'] = labels\n",
    "        temp_df.to_csv(f\"data {new_file_str}.csv\")\n",
    "        sil, cal_hara,davies = evaluate_clustering(temp_df, labels)\n",
    "        evaluations.append((file_name,vector,reduction_method, name,clusters, sil, cal_hara,davies))\n",
    "        \n",
    "        if method != 0:\n",
    "            # Plotting the clustered data\n",
    "            plt.figure(figsize=(10, 6))\n",
    "            plt.suptitle(f\"Decomposed and Clustered Data\")\n",
    "            plt.title(f\"File:{file_name}|Reduction:{reduction_method}|Method:{name}|Clusters:{clusters}\")\n",
    "            sns.scatterplot(x=reduced_data[:, 0], y=reduced_data[:, 1], hue=labels, palette='viridis', s=100, alpha=0.7)\n",
    "            plt.xlabel(\"Component 1\")\n",
    "            plt.ylabel(\"Component 2\")\n",
    "            plt.legend(title='Cluster')\n",
    "            plt.savefig(f\"Graph {new_file_str}.jpg\", dpi=450)\n",
    "            if debug:\n",
    "                plt.show()\n",
    "    \n",
    "\n",
    "   \n",
    "    return evaluations\n",
    "\n",
    "def evaluate_clustering(x, y):\n",
    "    # Shuffle the y labels to create random labels\n",
    "    shuffled_labels = np.random.permutation(y)\n",
    "    \n",
    "    # Compute silhouette score with the provided labels\n",
    "    sil = silhouette_score(x, y)\n",
    "    cal_hara = calinski_harabasz_score(x,y)\n",
    "    davies =davies_bouldin_score(x,y)\n",
    "    \n",
    "    return sil, cal_hara,davies\n"
   ]
  },
  {
   "cell_type": "code",
   "execution_count": 28,
   "id": "77634ea5",
   "metadata": {},
   "outputs": [],
   "source": [
    "def __main__(file_name: str = \"data.csv\",debug: bool = False)-> int:\n",
    "    df = load_data(file_name,False)\n",
    "    v = [0]\n",
    "    r = [1]\n",
    "    clusters = [5]\n",
    "    results = []\n",
    "    for v_ind in v:\n",
    "        v_df,names = vectorize_data(df,v_ind,False)\n",
    "        for red_ind in r:\n",
    "            for c in clusters:\n",
    "                test_results = data_reduction(file_name[:-4],v_df,red_ind,c,v_ind,False)\n",
    "                for t in test_results:\n",
    "                    results.append(t)\n",
    "    final_results = pd.DataFrame(results,columns=[\"Dataset\", \"v_ind\",\"Reduction_method\",\"Clustering Method\", \"Clusters\", \"Sil Score\", \" Cal Hara\", \"Davies\"])\n",
    "    final_results.to_csv(f\"{file_name[:-4]} Test Results.csv\")\n",
    "    return 1;"
   ]
  },
  {
   "cell_type": "code",
   "execution_count": 29,
   "id": "65f13792",
   "metadata": {},
   "outputs": [
    {
     "name": "stdout",
     "output_type": "stream",
     "text": [
      "Clustering method: Agglomerative Clustering\n"
     ]
    },
    {
     "data": {
      "text/plain": [
       "1"
      ]
     },
     "execution_count": 29,
     "metadata": {},
     "output_type": "execute_result"
    },
    {
     "data": {
      "image/png": "[encoded data removed]",
      "text/plain": [
       "<Figure size 720x432 with 1 Axes>"
      ]
     },
     "metadata": {
      "needs_background": "light"
     },
     "output_type": "display_data"
    }
   ],
   "source": [
    "debug = True\n",
    "__main__(\"Smash Ult v1.csv\",debug)"
   ]
  },
  {
   "cell_type": "markdown",
   "id": "6c68f022",
   "metadata": {},
   "source": [
    "### "
   ]
  },
  {
   "cell_type": "code",
   "execution_count": null,
   "id": "b5abc6e9",
   "metadata": {},
   "outputs": [],
   "source": []
  }
 ],
 "metadata": {
  "kernelspec": {
   "display_name": "Python 3 (ipykernel)",
   "language": "python",
   "name": "python3"
  },
  "language_info": {
   "codemirror_mode": {
    "name": "ipython",
    "version": 3
   },
   "file_extension": ".py",
   "mimetype": "text/x-python",
   "name": "python",
   "nbconvert_exporter": "python",
   "pygments_lexer": "ipython3",
   "version": "3.9.12"
  }
 },
 "nbformat": 4,
 "nbformat_minor": 5
}
