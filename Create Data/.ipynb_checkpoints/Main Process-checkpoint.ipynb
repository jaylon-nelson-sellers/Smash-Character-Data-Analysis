{
 "cells": [
  {
   "cell_type": "code",
   "execution_count": 61,
   "id": "9a4dfca4",
   "metadata": {},
   "outputs": [],
   "source": [
    "# Reduction via PCA, ICA, and Double-DBM"
   ]
  },
  {
   "cell_type": "code",
   "execution_count": 62,
   "id": "2b175cd8",
   "metadata": {},
   "outputs": [],
   "source": [
    "# Cluster via K Means, DBSCAN, Spectral Clustering"
   ]
  },
  {
   "cell_type": "code",
   "execution_count": 63,
   "id": "7758d5d9",
   "metadata": {},
   "outputs": [],
   "source": [
    "# Graph and save V-measure, ARI, Adjusted Mutual Information"
   ]
  },
  {
   "cell_type": "code",
   "execution_count": 120,
   "id": "8863232b",
   "metadata": {},
   "outputs": [],
   "source": [
    "from sklearn.feature_extraction.text import TfidfVectorizer\n",
    "from sklearn.cluster import KMeans\n",
    "from sklearn.pipeline import make_pipeline\n",
    "import csv\n",
    "import pandas as pd\n",
    "from pandas import DataFrame\n",
    "def load_data(file_name: str = \"Data.csv\" , debug: bool = False ) -> DataFrame:\n",
    "    \n",
    "    try:\n",
    "        with open(file_name, mode ='r')as file:\n",
    "          csv_file = csv.reader(file)\n",
    "        df = pd.read_csv(file_name)\n",
    "        if debug:\n",
    "            print(\"Dataframe after loading data\")\n",
    "            print(df.head(5))\n",
    "    except:\n",
    "        print(\"Could Not Load File\")\n",
    "   \n",
    "    if debug:\n",
    "        print(\"Loading Data Completed\")\n",
    "    return df"
   ]
  },
  {
   "cell_type": "code",
   "execution_count": 127,
   "id": "8f1f8a2d",
   "metadata": {},
   "outputs": [],
   "source": [
    "import pandas as pd\n",
    "from sklearn.feature_extraction.text import TfidfVectorizer\n",
    "\n",
    "def vectorize_data(df, column_name: str, v_method: str = \"TfidfVectorizer\", debug: bool = False) -> pd.DataFrame:\n",
    "    print(\"Original DataFrame shape:\", df.shape)\n",
    "    if v_method == \"CountVectorizer\"\n",
    "    if v_method == \"TfidfVectorizer\":\n",
    "        vectorizer = TfidfVectorizer(stop_words='english')\n",
    "        # Fit and transform the text data\n",
    "        transformed_data = vectorizer.fit_transform(df[column_name])\n",
    "        if debug:\n",
    "            print(\"Shape after vectorizing:\", transformed_data.shape)\n",
    "        \n",
    "        # Convert the sparse matrix to a DataFrame\n",
    "        df_transformed = pd.DataFrame(transformed_data.toarray(), columns=vectorizer.get_feature_names_out())\n",
    "        \n",
    "        if debug:\n",
    "            print(\"DataFrame after vectorizing data:\")\n",
    "            print(df_transformed.head())\n",
    "            \n",
    "        return df_transformed\n",
    "    else:\n",
    "        raise ValueError(f\"Vectorizing method '{v_method}' is not supported.\")\n"
   ]
  },
  {
   "cell_type": "code",
   "execution_count": 128,
   "id": "406ada43",
   "metadata": {},
   "outputs": [
    {
     "name": "stdout",
     "output_type": "stream",
     "text": [
      "Dataframe after loading data\n",
      "        Character Tier  Tier Score  \\\n",
      "0         Pikachu    S        1.10   \n",
      "1           Kirby    S        2.18   \n",
      "2  Captain Falcon    A        3.42   \n",
      "3             Fox    A        3.75   \n",
      "4           Yoshi    A        4.85   \n",
      "\n",
      "                                       Quick Summary  \n",
      "0  Pikachu ranks 1st on the tier list, its best p...  \n",
      "1  Kirby ranks 2nd on the current tier list and i...  \n",
      "2  Captain Falcon is ranked 3rd overall on the ti...  \n",
      "3  Fox ranks 4th on the tier list, mainly due to ...  \n",
      "4  Yoshi currently ranks 5th in the tier list, pl...  \n",
      "Loading Data Completed\n",
      "Original DataFrame shape: (12, 4)\n"
     ]
    },
    {
     "ename": "ValueError",
     "evalue": "Vectorizing method 'True' is not supported.",
     "output_type": "error",
     "traceback": [
      "\u001b[1;31m---------------------------------------------------------------------------\u001b[0m",
      "\u001b[1;31mValueError\u001b[0m                                Traceback (most recent call last)",
      "Input \u001b[1;32mIn [128]\u001b[0m, in \u001b[0;36m<cell line: 5>\u001b[1;34m()\u001b[0m\n\u001b[0;32m      3\u001b[0m     df \u001b[38;5;241m=\u001b[39m vectorize_data(df,\u001b[38;5;124m\"\u001b[39m\u001b[38;5;124mTfidfVectorizer\u001b[39m\u001b[38;5;124m\"\u001b[39m,debug)\n\u001b[0;32m      4\u001b[0m debug \u001b[38;5;241m=\u001b[39m \u001b[38;5;28;01mTrue\u001b[39;00m\n\u001b[1;32m----> 5\u001b[0m \u001b[43m__main__\u001b[49m\u001b[43m(\u001b[49m\u001b[38;5;124;43m\"\u001b[39;49m\u001b[38;5;124;43mSmash 64 v1.csv\u001b[39;49m\u001b[38;5;124;43m\"\u001b[39;49m\u001b[43m,\u001b[49m\u001b[43mdebug\u001b[49m\u001b[43m)\u001b[49m\n",
      "Input \u001b[1;32mIn [128]\u001b[0m, in \u001b[0;36m__main__\u001b[1;34m(file_name, debug)\u001b[0m\n\u001b[0;32m      1\u001b[0m \u001b[38;5;28;01mdef\u001b[39;00m \u001b[38;5;21m__main__\u001b[39m(file_name: \u001b[38;5;28mstr\u001b[39m \u001b[38;5;241m=\u001b[39m \u001b[38;5;124m\"\u001b[39m\u001b[38;5;124mdata.csv\u001b[39m\u001b[38;5;124m\"\u001b[39m,debug: \u001b[38;5;28mbool\u001b[39m \u001b[38;5;241m=\u001b[39m \u001b[38;5;28;01mFalse\u001b[39;00m):\n\u001b[0;32m      2\u001b[0m     df \u001b[38;5;241m=\u001b[39m load_data(file_name,debug)\n\u001b[1;32m----> 3\u001b[0m     df \u001b[38;5;241m=\u001b[39m \u001b[43mvectorize_data\u001b[49m\u001b[43m(\u001b[49m\u001b[43mdf\u001b[49m\u001b[43m,\u001b[49m\u001b[38;5;124;43m\"\u001b[39;49m\u001b[38;5;124;43mTfidfVectorizer\u001b[39;49m\u001b[38;5;124;43m\"\u001b[39;49m\u001b[43m,\u001b[49m\u001b[43mdebug\u001b[49m\u001b[43m)\u001b[49m\n",
      "Input \u001b[1;32mIn [127]\u001b[0m, in \u001b[0;36mvectorize_data\u001b[1;34m(df, column_name, v_method, debug)\u001b[0m\n\u001b[0;32m     21\u001b[0m     \u001b[38;5;28;01mreturn\u001b[39;00m df_transformed\n\u001b[0;32m     22\u001b[0m \u001b[38;5;28;01melse\u001b[39;00m:\n\u001b[1;32m---> 23\u001b[0m     \u001b[38;5;28;01mraise\u001b[39;00m \u001b[38;5;167;01mValueError\u001b[39;00m(\u001b[38;5;124mf\u001b[39m\u001b[38;5;124m\"\u001b[39m\u001b[38;5;124mVectorizing method \u001b[39m\u001b[38;5;124m'\u001b[39m\u001b[38;5;132;01m{\u001b[39;00mv_method\u001b[38;5;132;01m}\u001b[39;00m\u001b[38;5;124m'\u001b[39m\u001b[38;5;124m is not supported.\u001b[39m\u001b[38;5;124m\"\u001b[39m)\n",
      "\u001b[1;31mValueError\u001b[0m: Vectorizing method 'True' is not supported."
     ]
    }
   ],
   "source": [
    "def __main__(file_name: str = \"data.csv\",debug: bool = False):\n",
    "    df = load_data(file_name,debug)\n",
    "    df = vectorize_data(df,\"TfidfVectorizer\",debug)\n",
    "debug = True\n",
    "__main__(\"Smash 64 v1.csv\",debug)"
   ]
  },
  {
   "cell_type": "code",
   "execution_count": null,
   "id": "480cca41",
   "metadata": {},
   "outputs": [],
   "source": []
  }
 ],
 "metadata": {
  "kernelspec": {
   "display_name": "Python 3 (ipykernel)",
   "language": "python",
   "name": "python3"
  },
  "language_info": {
   "codemirror_mode": {
    "name": "ipython",
    "version": 3
   },
   "file_extension": ".py",
   "mimetype": "text/x-python",
   "name": "python",
   "nbconvert_exporter": "python",
   "pygments_lexer": "ipython3",
   "version": "3.9.12"
  }
 },
 "nbformat": 4,
 "nbformat_minor": 5
}
