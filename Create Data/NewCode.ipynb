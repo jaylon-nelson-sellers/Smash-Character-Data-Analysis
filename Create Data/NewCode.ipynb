{
 "cells": [
  {
   "cell_type": "code",
   "execution_count": 6,
   "id": "93c4b1a8",
   "metadata": {},
   "outputs": [
    {
     "name": "stderr",
     "output_type": "stream",
     "text": [
      "C:\\Users\\jaylo\\AppData\\Roaming\\Python\\Python39\\site-packages\\sklearn\\cluster\\_kmeans.py:1416: FutureWarning: The default value of `n_init` will change from 10 to 'auto' in 1.4. Set the value of `n_init` explicitly to suppress the warning\n",
      "  super()._check_params_vs_input(X, default_n_init=10)\n",
      "C:\\Users\\jaylo\\AppData\\Roaming\\Python\\Python39\\site-packages\\sklearn\\cluster\\_kmeans.py:1416: FutureWarning: The default value of `n_init` will change from 10 to 'auto' in 1.4. Set the value of `n_init` explicitly to suppress the warning\n",
      "  super()._check_params_vs_input(X, default_n_init=10)\n"
     ]
    },
    {
     "name": "stdout",
     "output_type": "stream",
     "text": [
      "Processing complete. Check 'clustered_smash_data.csv' for clustered data and 'smash_ultimate_tsne.png' for visualization.\n"
     ]
    }
   ],
   "source": [
    "\n",
    "import pandas as pd\n",
    "import numpy as np\n",
    "from sklearn.preprocessing import StandardScaler\n",
    "from sklearn.feature_extraction.text import TfidfVectorizer\n",
    "from sklearn.cluster import KMeans\n",
    "from sklearn.decomposition import KernelPCA,FastICA, PCA\n",
    "import matplotlib.pyplot as plt\n",
    "from sklearn.impute import SimpleImputer\n",
    "\n",
    "# Load data\n",
    "df = pd.read_csv('Smash Ult.csv')\n",
    "\n",
    "# Extract character names\n",
    "character_names = df.iloc[:, 0].tolist()\n",
    "df = df.iloc[:, 1:]\n",
    "# Preprocess text columns\n",
    "text_columns = ['Summary', 'Attributes', 'Strengths', 'Weaknesses', 'Overall']\n",
    "df[text_columns] = df[text_columns].fillna('')  # Replace NaN with empty string\n",
    "\n",
    "# Initialize TfidfVectorizer\n",
    "tfidf = TfidfVectorizer(stop_words='english')\n",
    "\n",
    "# Perform TF-IDF vectorization for each column individually\n",
    "tfidf_features = []\n",
    "for column in text_columns:\n",
    "    column_tfidf = tfidf.fit_transform(df[column].astype(str))\n",
    "    tfidf_features.append(column_tfidf)\n",
    "\n",
    "# Concatenate all TF-IDF features\n",
    "features = np.hstack([feat.toarray() for feat in tfidf_features])\n",
    "\n",
    "# Check for and remove any rows with NaN values\n",
    "features = features[~np.isnan(features).any(axis=1)]\n",
    "\n",
    "# Cluster main data\n",
    "if features.shape[0] > 0:\n",
    "    kmeans = KMeans(n_clusters=min(3, features.shape[0]), random_state=42)\n",
    "    clusters = kmeans.fit_predict(features)\n",
    "else:\n",
    "    print(\"No valid data for clustering\")\n",
    "    exit()\n",
    "\n",
    "# Save clustered data\n",
    "df['Cluster'] = pd.Series(clusters, index=df.index[:len(clusters)])\n",
    "df.to_csv('clustered_smash_data.csv', index=False)\n",
    "\n",
    "# Apply t-SNE\n",
    "tsne = PCA(n_components=2,random_state=42)\n",
    "tsne_results = tsne.fit_transform(features)\n",
    "\n",
    "# Combine character names with t-SNE results\n",
    "tsne_df = pd.DataFrame({'Character': character_names[:len(tsne_results)], 'TSNE1': tsne_results[:, 0], 'TSNE2': tsne_results[:, 1]})\n",
    "\n",
    "# Cluster t-SNE data\n",
    "tsne_clusters = KMeans(n_clusters=min(5, tsne_results.shape[0]), random_state=42).fit_predict(tsne_results)\n",
    "tsne_df['Cluster'] = tsne_clusters\n",
    "\n",
    "# Visualization\n",
    "plt.figure(figsize=(12, 8))\n",
    "scatter = plt.scatter(tsne_df['TSNE1'], tsne_df['TSNE2'], c=tsne_df['Cluster'], cmap='viridis')\n",
    "\n",
    "for i, txt in enumerate(tsne_df['Character']):\n",
    "    plt.annotate(txt, (tsne_df['TSNE1'][i], tsne_df['TSNE2'][i]), fontsize=8)\n",
    "\n",
    "plt.title('t-SNE Visualization of Smash Ultimate Characters')\n",
    "plt.xlabel('t-SNE Component 1')\n",
    "plt.ylabel('t-SNE Component 2')\n",
    "plt.tight_layout()\n",
    "plt.savefig('smash_ultimate_tsne.png',dpi=400)\n",
    "plt.close()\n",
    "\n",
    "print(\"Processing complete. Check 'clustered_smash_data.csv' for clustered data and 'smash_ultimate_tsne.png' for visualization.\")"
   ]
  },
  {
   "cell_type": "code",
   "execution_count": null,
   "id": "6239867a",
   "metadata": {},
   "outputs": [],
   "source": []
  },
  {
   "cell_type": "code",
   "execution_count": null,
   "id": "87eaae95",
   "metadata": {},
   "outputs": [],
   "source": []
  }
 ],
 "metadata": {
  "kernelspec": {
   "display_name": "Python 3 (ipykernel)",
   "language": "python",
   "name": "python3"
  },
  "language_info": {
   "codemirror_mode": {
    "name": "ipython",
    "version": 3
   },
   "file_extension": ".py",
   "mimetype": "text/x-python",
   "name": "python",
   "nbconvert_exporter": "python",
   "pygments_lexer": "ipython3",
   "version": "3.9.12"
  }
 },
 "nbformat": 4,
 "nbformat_minor": 5
}
